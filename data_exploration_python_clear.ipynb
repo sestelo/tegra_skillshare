{
 "cells": [
  {
   "cell_type": "markdown",
   "metadata": {},
   "source": [
    "# Data Exploration in Python\n",
    "\n",
    "Rafael Martínez (rmartinez@gradiant.org)"
   ]
  },
  {
   "cell_type": "markdown",
   "metadata": {},
   "source": [
    "----------------\n",
    "\n",
    "\n",
    "\n",
    "\n",
    "## Table of contents\n",
    "\n",
    "\n",
    "1. [Data wrangling](#wrangling)\n",
    "    - [Data import](#import)\n",
    "    - [Data structure](#structure)\n",
    "2. [Exploratory Data Analysis](#EDA)\n",
    "    - [Dealing with missing values](#NaN)\n",
    "    - [Exploring the variation of my variables](#variation)\n",
    "    - [Exploring the covariation between my variables](#covariation)\n",
    "    - [Data visualization](#plots)\n",
    "   "
   ]
  },
  {
   "cell_type": "markdown",
   "metadata": {},
   "source": [
    "Before starting, it is necessary to load the required modules: `pandas`, `numpy`, `matplotlib` and `seaborn`"
   ]
  },
  {
   "cell_type": "code",
   "execution_count": null,
   "metadata": {},
   "outputs": [],
   "source": [
    "import pandas as pd\n",
    "\n",
    "import numpy as np\n",
    "\n",
    "import matplotlib.pyplot as plt\n",
    "%matplotlib inline\n",
    "\n",
    "import seaborn as sns\n",
    "sns.set()\n",
    "sns.set_context('talk')"
   ]
  },
  {
   "cell_type": "markdown",
   "metadata": {},
   "source": [
    "<a id='wrangling'></a>\n",
    "\n",
    "# Data wrangling\n",
    "\n",
    "This is the art of getting your data into Python in a useful form for visualisation and modelling. Data wrangling is very important: without it you can’t work with your own data!\n",
    "\n",
    "This phase is divided into data import and the idea of tidy data (how you can organise your data in Python)."
   ]
  },
  {
   "cell_type": "markdown",
   "metadata": {},
   "source": [
    "<a id='import'></a>\n",
    "\n",
    "## Data import \n",
    "\n",
    "In this part, we are going to learn how to get your data from disk and into Python. There ara several functions to load data in Python. You must choose the ideal depending on the data format. The best choice when dealing with relational data (e.g. CSV) is often Pandas dataframes."
   ]
  },
  {
   "cell_type": "code",
   "execution_count": null,
   "metadata": {},
   "outputs": [],
   "source": [
    "# http://data.insideairbnb.com/spain/catalonia/barcelona/2018-09-11/visualisations/listings.csv\n",
    "\n",
    "data = pd.read_csv('airbnb.csv')"
   ]
  },
  {
   "cell_type": "markdown",
   "metadata": {},
   "source": [
    "<a id='structure'></a>\n",
    "\n",
    "## Data structure\n",
    "\n",
    "Now we will have a look at the data, their size and their structure."
   ]
  },
  {
   "cell_type": "code",
   "execution_count": null,
   "metadata": {},
   "outputs": [],
   "source": [
    "data.shape"
   ]
  },
  {
   "cell_type": "code",
   "execution_count": null,
   "metadata": {},
   "outputs": [],
   "source": [
    "data.columns"
   ]
  },
  {
   "cell_type": "code",
   "execution_count": null,
   "metadata": {},
   "outputs": [],
   "source": [
    "data.info()"
   ]
  },
  {
   "cell_type": "code",
   "execution_count": null,
   "metadata": {},
   "outputs": [],
   "source": [
    "data.head()"
   ]
  },
  {
   "cell_type": "code",
   "execution_count": null,
   "metadata": {},
   "outputs": [],
   "source": [
    "type(data)"
   ]
  },
  {
   "cell_type": "markdown",
   "metadata": {},
   "source": [
    "Next, you can see some examples of how to select data from a dataframe"
   ]
  },
  {
   "cell_type": "code",
   "execution_count": null,
   "metadata": {},
   "outputs": [],
   "source": [
    "data.iloc[0] # select first row"
   ]
  },
  {
   "cell_type": "code",
   "execution_count": null,
   "metadata": {},
   "outputs": [],
   "source": [
    "data.iloc[0:3] # select first three rows"
   ]
  },
  {
   "cell_type": "code",
   "execution_count": null,
   "metadata": {},
   "outputs": [],
   "source": [
    "data.iloc[-3:] # select 3 last rows"
   ]
  },
  {
   "cell_type": "code",
   "execution_count": null,
   "metadata": {},
   "outputs": [],
   "source": [
    "data['id'] # select first column (equivalent to data[data.columns[0]])"
   ]
  },
  {
   "cell_type": "code",
   "execution_count": null,
   "metadata": {},
   "outputs": [],
   "source": [
    "data[data.columns[1:5]] # select columns 2 to 5"
   ]
  },
  {
   "cell_type": "code",
   "execution_count": null,
   "metadata": {},
   "outputs": [],
   "source": [
    "data.id[0:10] # select column by name (another way)"
   ]
  },
  {
   "cell_type": "code",
   "execution_count": null,
   "metadata": {},
   "outputs": [],
   "source": [
    "data.head(6) # select first N rows"
   ]
  },
  {
   "cell_type": "code",
   "execution_count": null,
   "metadata": {},
   "outputs": [],
   "source": [
    "data.tail(3) # select last N rows"
   ]
  },
  {
   "cell_type": "code",
   "execution_count": null,
   "metadata": {},
   "outputs": [],
   "source": [
    "data.host_name.iloc[0] # first element of a list"
   ]
  },
  {
   "cell_type": "code",
   "execution_count": null,
   "metadata": {},
   "outputs": [],
   "source": [
    "data.host_name.iloc[-1] # last element of a list"
   ]
  },
  {
   "cell_type": "markdown",
   "metadata": {},
   "source": [
    "<a id='EDA'></a>\n",
    "\n",
    "# Exploratory Data Analysis\n",
    "\n",
    "\n",
    "The goal during Exploratory Data Analysis (EDA) is to develop an understanding of your data. The easiest way to do this is to use questions as tools to guide your investigation. When you ask a question, the question focuses your attention on a specific part of your dataset and helps you decide which graphs, models, or transformations to make.\n",
    "\n",
    "There is no rule about which questions you should ask to guide your research. However, two types of questions will always be useful for making discoveries within your data. You can loosely word these questions as:\n",
    "\n",
    "* What type of variation occurs within my variables?\n",
    "\n",
    "* What type of covariation occurs between my variables?\n",
    "\n",
    "\n",
    "\n",
    "\n",
    "\n",
    "\n",
    "**Some remarks**:\n",
    "* A *variable* is a quantity, quality, or property that you can measure.\n",
    "\n",
    "* A *value* is the state of a variable when you measure it. The value of a variable may change from measurement to measurement.\n",
    "\n",
    "* An *observation* is a set of measurements made under similar conditions (you usually make all of the measurements in an observation at the same time and on the same object). An observation will contain several values, each associated with a different variable. I’ll sometimes refer to an observation as a data point.\n",
    "\n",
    "\n",
    "\n",
    "Often you’ll need to create some new variables or summaries, or maybe you just want to rename the variables or reorder the observations in order to make the data a little easier to work with.  You can see here some examples:\n",
    "<a id='import'></a>"
   ]
  },
  {
   "cell_type": "markdown",
   "metadata": {},
   "source": [
    "<a id='NaN'></a>\n",
    "\n",
    "## Dealing with missing values\n",
    "\n",
    "But before starting, a common task in data analysis is dealing with missing values. In Python, missing values are often represented by `NaN`.\n",
    "\n",
    "The first step is to identify this values. To this end, you can use `isnull()` or `isna()` to count all non-missing values. This methods return a logical vector with `True` in the element locations that contain missing values represented by `NaN`."
   ]
  },
  {
   "cell_type": "code",
   "execution_count": null,
   "metadata": {},
   "outputs": [],
   "source": [
    "data.isnull().sum()"
   ]
  },
  {
   "cell_type": "markdown",
   "metadata": {},
   "source": [
    "A very useful function to see some stats on the numerical data (including the number of non-missings) is `pd.describe()`."
   ]
  },
  {
   "cell_type": "code",
   "execution_count": null,
   "metadata": {},
   "outputs": [],
   "source": [
    "data.describe()"
   ]
  },
  {
   "cell_type": "markdown",
   "metadata": {},
   "source": [
    "Now, we can delete these observations or we can recode them.\n",
    "\n",
    "In order to recode missing values or recode specific indicators that represent missing values, we can use normal subsetting and assignment operations. For example, we can recode missing values in vector `x` with the mean values in `x` by first subsetting the vector to identify `NaNs` and then assign these elements a value."
   ]
  },
  {
   "cell_type": "code",
   "execution_count": null,
   "metadata": {},
   "outputs": [],
   "source": [
    "x = pd.Series([1, 2, 3, 4, np.nan, 6, 7, np.nan])"
   ]
  },
  {
   "cell_type": "code",
   "execution_count": null,
   "metadata": {},
   "outputs": [],
   "source": [
    "x.interpolate() # interpolate values, default method='linear'"
   ]
  },
  {
   "cell_type": "markdown",
   "metadata": {},
   "source": [
    "In our analysis, we are going to exclude these cases directly. To this end, we could use de 'dropna()' function."
   ]
  },
  {
   "cell_type": "code",
   "execution_count": null,
   "metadata": {},
   "outputs": [],
   "source": [
    "x.dropna()"
   ]
  },
  {
   "cell_type": "code",
   "execution_count": null,
   "metadata": {},
   "outputs": [],
   "source": [
    "data = data.dropna() # Warning! here we change our dataset\n",
    "data.shape"
   ]
  },
  {
   "cell_type": "markdown",
   "metadata": {},
   "source": [
    "<a id='variation'></a>\n",
    "\n",
    "## Exploring the variation of my variables\n",
    "\n",
    "At this stage, we'll see some example to analyze one variable paying attention of their type (numerical or categorical). In the case of a numerical variable, it is common to use the `describe()` function and in the case of a categorical variable we can obtain frequencies for each of the levels of the variable."
   ]
  },
  {
   "cell_type": "code",
   "execution_count": null,
   "metadata": {},
   "outputs": [],
   "source": [
    "data.price.describe() # numerical"
   ]
  },
  {
   "cell_type": "code",
   "execution_count": null,
   "metadata": {},
   "outputs": [],
   "source": [
    "data.room_type.describe() # categorical"
   ]
  },
  {
   "cell_type": "code",
   "execution_count": null,
   "metadata": {},
   "outputs": [],
   "source": [
    "data.room_type.value_counts() # absolute frequencies"
   ]
  },
  {
   "cell_type": "code",
   "execution_count": null,
   "metadata": {},
   "outputs": [],
   "source": [
    "data.room_type.value_counts()/data.room_type.count() # relative frequencies"
   ]
  },
  {
   "cell_type": "markdown",
   "metadata": {},
   "source": [
    "<a id='covariation'></a>\n",
    "\n",
    "## Exploring the covariation between my variables\n",
    "\n",
    "Now, we'll try to understand which is the relation between some variables and obtain results for the combination of them."
   ]
  },
  {
   "cell_type": "code",
   "execution_count": null,
   "metadata": {
    "scrolled": true
   },
   "outputs": [],
   "source": [
    "data[(data['neighbourhood_group'] == 'Ciutat Vella') & (data['room_type'] == 'Private room')]"
   ]
  },
  {
   "cell_type": "code",
   "execution_count": null,
   "metadata": {},
   "outputs": [],
   "source": [
    "# Other examples:\n",
    "# data[(data['neighbourhood_group'] == 'Ciutat Vella') | (data['neighbourhood_group'] == 'Gràcia')]\n",
    "# data[data['neighbourhood_group'].isin(['Ciutat Vella', 'Gràcia'])]"
   ]
  },
  {
   "cell_type": "markdown",
   "metadata": {},
   "source": [
    "The function `sort_values()` takes a dataframe and a set of column names to order by. If you provide more than one column name, each additional column will be used to break ties in the values of preceding columns:"
   ]
  },
  {
   "cell_type": "code",
   "execution_count": null,
   "metadata": {},
   "outputs": [],
   "source": [
    "data.sort_values('number_of_reviews', ascending=False)"
   ]
  },
  {
   "cell_type": "markdown",
   "metadata": {},
   "source": [
    "Besides selecting sets of existing columns, sometimes it's very useful to add new columns that are obtained from the existing ones."
   ]
  },
  {
   "cell_type": "code",
   "execution_count": null,
   "metadata": {},
   "outputs": [],
   "source": [
    "data['ri_price'] = (data['price'] > np.percentile(data['price'], 25)) & (data['price'] < np.percentile(data['price'], 75))\n",
    "data.head()"
   ]
  },
  {
   "cell_type": "markdown",
   "metadata": {},
   "source": [
    "To rapidly zoom-in on a specific subset:"
   ]
  },
  {
   "cell_type": "code",
   "execution_count": null,
   "metadata": {},
   "outputs": [],
   "source": [
    "data[['name', 'price']].head()"
   ]
  },
  {
   "cell_type": "markdown",
   "metadata": {},
   "source": [
    "In order to answer questions like, for example, how many distinct `neighbourhood` are there in `Ciutat Vella`?"
   ]
  },
  {
   "cell_type": "code",
   "execution_count": null,
   "metadata": {},
   "outputs": [],
   "source": [
    "pd.unique(data[data['neighbourhood_group'] == 'Ciutat Vella']['neighbourhood']).tolist()"
   ]
  },
  {
   "cell_type": "code",
   "execution_count": null,
   "metadata": {},
   "outputs": [],
   "source": [
    "pd.unique(data['neighbourhood']).tolist() # list all neighbourhoods"
   ]
  },
  {
   "cell_type": "markdown",
   "metadata": {},
   "source": [
    "Finally, `groupby()` is one of the tools that you'll use most in data exploration"
   ]
  },
  {
   "cell_type": "code",
   "execution_count": null,
   "metadata": {},
   "outputs": [],
   "source": [
    "data.groupby(['neighbourhood_group'])['price'].mean()"
   ]
  },
  {
   "cell_type": "code",
   "execution_count": null,
   "metadata": {},
   "outputs": [],
   "source": [
    "data.groupby(['room_type'])['price'].describe()"
   ]
  },
  {
   "cell_type": "code",
   "execution_count": null,
   "metadata": {},
   "outputs": [],
   "source": [
    "data.groupby(['neighbourhood_group', 'room_type'])['price'].describe()"
   ]
  },
  {
   "cell_type": "markdown",
   "metadata": {},
   "source": [
    "<a id='plots'></a>\n",
    "\n",
    "## Data visualization\n",
    "\n",
    "Finally we will see how to visualise your data using `matplotlib` and `seaborn`.\n",
    " - `matplotlib` is the most used module\n",
    " - `seaborn` provides more powerful and elegant visualizations\n",
    "\n",
    "\n",
    "### Univariate analysis\n",
    "\n",
    "The way that you visualize the distribution of a variable depend on the type of variable you have: categorical or numerical. A variable is **categorical** if it can only take one of a small set of values. In Python, categorical variables are usually stored as char strings. To examine the distribution of a categorical variable, use a bar chart:"
   ]
  },
  {
   "cell_type": "code",
   "execution_count": null,
   "metadata": {},
   "outputs": [],
   "source": [
    "fig = plt.figure(figsize = (16, 8))\n",
    "ng = data.groupby(['neighbourhood_group'])['id'].count()\n",
    "plt.bar(ng.keys(), ng) # bar plot with matplotlib"
   ]
  },
  {
   "cell_type": "code",
   "execution_count": null,
   "metadata": {},
   "outputs": [],
   "source": [
    "fig = plt.figure(figsize = (16, 8))\n",
    "sns.countplot(x=\"neighbourhood_group\", data=data) # countplot with seaborn"
   ]
  },
  {
   "cell_type": "code",
   "execution_count": null,
   "metadata": {},
   "outputs": [],
   "source": [
    "fig = plt.figure(figsize = (16, 8))\n",
    "sns.countplot(x='neighbourhood_group', hue='room_type', data=data) # countplot with seaborn"
   ]
  },
  {
   "cell_type": "markdown",
   "metadata": {},
   "source": [
    "A variable is **numerical** if it can take any of an infinite set of ordered values. Numbers and date-times are two examples of numerical variables. In order to see the distribution of a numerical variable, you can use a histogram or a density plot:"
   ]
  },
  {
   "cell_type": "code",
   "execution_count": null,
   "metadata": {
    "scrolled": false
   },
   "outputs": [],
   "source": [
    "fig = plt.figure(figsize = (16, 8))\n",
    "plt.hist(data['price'], 30) # histogram with matplotlib\n",
    "plt.xlabel('price')\n",
    "\n",
    "# it seems that there are some outliers"
   ]
  },
  {
   "cell_type": "code",
   "execution_count": null,
   "metadata": {
    "scrolled": false
   },
   "outputs": [],
   "source": [
    "fig = plt.figure(figsize = (16, 8))\n",
    "sns.distplot(data['price'], kde=False) # histogram with seaborn"
   ]
  },
  {
   "cell_type": "code",
   "execution_count": null,
   "metadata": {},
   "outputs": [],
   "source": [
    "data_filtered = data[data['price'] < 200] # Let's zoom in the (0, 200) interval"
   ]
  },
  {
   "cell_type": "code",
   "execution_count": null,
   "metadata": {},
   "outputs": [],
   "source": [
    "fig = plt.figure(figsize = (16, 8))\n",
    "plt.hist(data_filtered['price'], 30)\n",
    "plt.xlabel('price')"
   ]
  },
  {
   "cell_type": "code",
   "execution_count": null,
   "metadata": {},
   "outputs": [],
   "source": [
    "fig = plt.figure(figsize = (16, 8))\n",
    "sns.distplot(data_filtered['price'], kde=False)"
   ]
  },
  {
   "cell_type": "code",
   "execution_count": null,
   "metadata": {},
   "outputs": [],
   "source": [
    "fig = plt.figure(figsize = (16, 8))\n",
    "plt.boxplot(data_filtered['price']) # boxplot with matplotlib\n",
    "plt.ylabel('price')"
   ]
  },
  {
   "cell_type": "code",
   "execution_count": null,
   "metadata": {},
   "outputs": [],
   "source": [
    "fig = plt.figure(figsize = (16, 8))\n",
    "sns.boxplot(x=data_filtered['price']) # boxplot with seaborn"
   ]
  },
  {
   "cell_type": "markdown",
   "metadata": {},
   "source": [
    "### Multivariate analysis\n",
    "\n",
    "From now onwards, we are going to describe the behaviour between variables (\"covariation\"). It is the tendency for the values of two or more variables to vary together in a related way. To this end, the best option is to visualise the relationship between two or more variables. How you do that depends on again the type of variables involved.\n",
    "\n",
    "If you want to explore the distribution of a **numerical** variable broken down by a **categorical** variable, you can use some of these plots:"
   ]
  },
  {
   "cell_type": "code",
   "execution_count": null,
   "metadata": {},
   "outputs": [],
   "source": [
    "fig = plt.figure(figsize = (16, 10))\n",
    "sns.violinplot(x='price', y='room_type', data=data_filtered, split=True)"
   ]
  },
  {
   "cell_type": "code",
   "execution_count": null,
   "metadata": {},
   "outputs": [],
   "source": [
    "fig = plt.figure(figsize = (16, 10))\n",
    "sns.boxplot(x='neighbourhood', y='price', data=data_filtered[data_filtered['neighbourhood_group'] == \"Gràcia\"])"
   ]
  },
  {
   "cell_type": "code",
   "execution_count": null,
   "metadata": {},
   "outputs": [],
   "source": [
    "fig = plt.figure(figsize = (16, 10))\n",
    "sns.boxplot(x='neighbourhood_group', y='price', hue='room_type', data=data_filtered)"
   ]
  },
  {
   "cell_type": "markdown",
   "metadata": {},
   "source": [
    "To visualise the relation between **categorical variables**, you’ll need to count the number of observations for each combination. One way to do that is to rely on several built-in functions in `seaborn`, as `heatmap()`, `jointplot()` or `lmplot()`."
   ]
  },
  {
   "cell_type": "code",
   "execution_count": null,
   "metadata": {},
   "outputs": [],
   "source": [
    "fig = plt.figure(figsize = (16, 10))\n",
    "gb = data_filtered.groupby(['neighbourhood_group', 'room_type']).count()['id'].unstack(level=-1)\n",
    "sns.heatmap(gb, cmap='coolwarm')"
   ]
  },
  {
   "cell_type": "code",
   "execution_count": null,
   "metadata": {},
   "outputs": [],
   "source": [
    "fig = plt.figure(figsize = (16, 28))\n",
    "gb = data_filtered.groupby(['neighbourhood', 'neighbourhood_group']).count()['id'].unstack(level=-1)\n",
    "sns.heatmap(gb, cmap='coolwarm')"
   ]
  },
  {
   "cell_type": "code",
   "execution_count": null,
   "metadata": {},
   "outputs": [],
   "source": [
    "fig = plt.figure(figsize = (16, 8))\n",
    "sns.jointplot(x='price', y='number_of_reviews', data=data_filtered, height=16) # jointplot with seaborn"
   ]
  },
  {
   "cell_type": "markdown",
   "metadata": {},
   "source": [
    "Maybe you can see a pattern in the points."
   ]
  },
  {
   "cell_type": "code",
   "execution_count": null,
   "metadata": {},
   "outputs": [],
   "source": [
    "fig = plt.figure(figsize = (16, 8))\n",
    "sns.lmplot(x='price', y='number_of_reviews', hue='room_type', data=data_filtered, height=16)"
   ]
  }
 ],
 "metadata": {
  "kernelspec": {
   "display_name": "Python 3",
   "language": "python",
   "name": "python3"
  },
  "language_info": {
   "codemirror_mode": {
    "name": "ipython",
    "version": 3
   },
   "file_extension": ".py",
   "mimetype": "text/x-python",
   "name": "python",
   "nbconvert_exporter": "python",
   "pygments_lexer": "ipython3",
   "version": "3.6.6"
  }
 },
 "nbformat": 4,
 "nbformat_minor": 2
}
