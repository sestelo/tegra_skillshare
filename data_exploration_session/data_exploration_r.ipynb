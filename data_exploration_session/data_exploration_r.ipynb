{
 "cells": [
  {
   "cell_type": "markdown",
   "metadata": {},
   "source": [
    "# Data Exploration in R \n",
    "\n",
    "Marta Sestelo (msestelo@gradiant.org)"
   ]
  },
  {
   "cell_type": "markdown",
   "metadata": {},
   "source": [
    "----------------\n",
    "\n",
    "\n",
    "\n",
    "\n",
    "## Table of contents\n",
    "\n",
    "\n",
    "1. [Data wrangling](#wrangling)\n",
    "    - [Data import](#import)\n",
    "    - [Data structure](#structure)\n",
    "2. [Exploratory Data Analysis](#EDA)\n",
    "    - [Dealing with missing values](#NA)\n",
    "    - [Exploring the variation of my variables](#variation)\n",
    "    - [Exploring the covariation between my variables](#covariation)\n",
    "    - [Data visualization](#plots)\n",
    "   "
   ]
  },
  {
   "cell_type": "markdown",
   "metadata": {},
   "source": [
    "Before starting, it is necessary to load the required packages. Both `ggplot2`, `dplyr` and `readr` are included in the [`tidyverse`](https://www.tidyverse.org/) package collection, so you can load just this package. \n",
    "\n",
    "Note: in the case you use a jupiter notebook you have to load the packages one by one.\n"
   ]
  },
  {
   "cell_type": "code",
   "execution_count": null,
   "metadata": {
    "scrolled": true
   },
   "outputs": [],
   "source": [
    "# library(tidyverse)\n",
    "library(dplyr)\n",
    "library(ggplot2)\n",
    "library(readr)"
   ]
  },
  {
   "cell_type": "markdown",
   "metadata": {},
   "source": [
    "<a id=\"wrangling\"></a>"
   ]
  },
  {
   "cell_type": "markdown",
   "metadata": {},
   "source": [
    "# Data wrangling\n",
    "\n",
    "This is the art of getting your data into R in a useful form for visualisation and modelling. Data wrangling is very important: without it you can’t work with your own data! \n",
    "\n",
    "This phase is divided into data import and the idea of tidy data (how you can organise your data in R).\n",
    "\n",
    "\n"
   ]
  },
  {
   "cell_type": "markdown",
   "metadata": {},
   "source": [
    "<a id=\"import\"></a>"
   ]
  },
  {
   "cell_type": "markdown",
   "metadata": {},
   "source": [
    "### Data import \n",
    "\n",
    "In this part, we are going to learn how to get your data from disk and into R. There ara several functions to load data in R. You must choose the ideal depending on the data format.  If you’re looking for raw speed with a big dataset try `data.table::fread()`. For hierarchical data as json files, you can use `jsonlite` packages.\n"
   ]
  },
  {
   "cell_type": "code",
   "execution_count": null,
   "metadata": {},
   "outputs": [],
   "source": [
    "# Download if needed\n",
    "# download.file(\"http://data.insideairbnb.com/spain/catalonia/barcelona/2018-09-11/visualisations/listings.csv\", \n",
    "#             \"airbnb.csv\")"
   ]
  },
  {
   "cell_type": "code",
   "execution_count": null,
   "metadata": {},
   "outputs": [],
   "source": [
    "data <- read_csv(\"airbnb.csv\") "
   ]
  },
  {
   "cell_type": "code",
   "execution_count": null,
   "metadata": {},
   "outputs": [],
   "source": [
    "#data <- as_tibble(data) # tibble is structure designed for using with big dataset"
   ]
  },
  {
   "cell_type": "markdown",
   "metadata": {},
   "source": [
    "<a id=\"structure\"></a>"
   ]
  },
  {
   "cell_type": "markdown",
   "metadata": {},
   "source": [
    "### Data structure\n",
    "\n",
    "Now we will have a look at data, their size and their structure. "
   ]
  },
  {
   "cell_type": "code",
   "execution_count": null,
   "metadata": {},
   "outputs": [],
   "source": [
    "dim(data) "
   ]
  },
  {
   "cell_type": "code",
   "execution_count": null,
   "metadata": {},
   "outputs": [],
   "source": [
    "names(data)"
   ]
  },
  {
   "cell_type": "code",
   "execution_count": null,
   "metadata": {},
   "outputs": [],
   "source": [
    "str(data)"
   ]
  },
  {
   "cell_type": "code",
   "execution_count": null,
   "metadata": {},
   "outputs": [],
   "source": [
    "head(data)"
   ]
  },
  {
   "cell_type": "code",
   "execution_count": null,
   "metadata": {},
   "outputs": [],
   "source": [
    "class(data)"
   ]
  },
  {
   "cell_type": "markdown",
   "metadata": {},
   "source": [
    "Next, you can see some example of how to select data from a `data.frame`"
   ]
  },
  {
   "cell_type": "code",
   "execution_count": null,
   "metadata": {},
   "outputs": [],
   "source": [
    "data[1, ] # first row "
   ]
  },
  {
   "cell_type": "code",
   "execution_count": null,
   "metadata": {},
   "outputs": [],
   "source": [
    "data[1:3, ] # first three rows"
   ]
  },
  {
   "cell_type": "code",
   "execution_count": null,
   "metadata": {},
   "outputs": [],
   "source": [
    "data[, 1] # first column"
   ]
  },
  {
   "cell_type": "code",
   "execution_count": null,
   "metadata": {},
   "outputs": [],
   "source": [
    "data[, 2:5] # from column 2 to 5 "
   ]
  },
  {
   "cell_type": "code",
   "execution_count": null,
   "metadata": {},
   "outputs": [],
   "source": [
    "data[, \"id\"] # select column by name"
   ]
  },
  {
   "cell_type": "code",
   "execution_count": null,
   "metadata": {},
   "outputs": [],
   "source": [
    "data$id[1:10] # select column by name (another way)"
   ]
  },
  {
   "cell_type": "code",
   "execution_count": null,
   "metadata": {
    "scrolled": true
   },
   "outputs": [],
   "source": [
    "head(data, 6) "
   ]
  },
  {
   "cell_type": "code",
   "execution_count": null,
   "metadata": {},
   "outputs": [],
   "source": [
    "tail(data, 2) "
   ]
  },
  {
   "cell_type": "code",
   "execution_count": null,
   "metadata": {},
   "outputs": [],
   "source": [
    "first(data$host_name) #  first position of a vector"
   ]
  },
  {
   "cell_type": "code",
   "execution_count": null,
   "metadata": {},
   "outputs": [],
   "source": [
    "last(data$host_name) # last position of a vector"
   ]
  },
  {
   "cell_type": "markdown",
   "metadata": {},
   "source": [
    "<a id=\"EDA\"></a>"
   ]
  },
  {
   "cell_type": "markdown",
   "metadata": {},
   "source": [
    "# Exploratory Data Analysis\n",
    "\n",
    "\n",
    "The goal during Exploratory Data Analysis (EDA) is to develop an understanding of your data. The easiest way to do this is to use questions as tools to guide your investigation. When you ask a question, the question focuses your attention on a specific part of your dataset and helps you decide which graphs, models, or transformations to make.\n",
    "\n",
    "There is no rule about which questions you should ask to guide your research. However, two types of questions will always be useful for making discoveries within your data. You can loosely word these questions as:\n",
    "\n",
    "* What type of variation occurs within my variables?\n",
    "\n",
    "* What type of covariation occurs between my variables?\n",
    "\n",
    "\n",
    "\n",
    "\n",
    "\n",
    "\n",
    "**Some remarks**:\n",
    "* A *variable* is a quantity, quality, or property that you can measure.\n",
    "\n",
    "* A *value* is the state of a variable when you measure it. The value of a variable may change from measurement to measurement.\n",
    "\n",
    "* An *observation* is a set of measurements made under similar conditions (you usually make all of the measurements in an observation at the same time and on the same object). An observation will contain several values, each associated with a different variable. I’ll sometimes refer to an observation as a data point.\n",
    "\n",
    "\n",
    "\n",
    "Often you’ll need to create some new variables or summaries, or maybe you just want to rename the variables or reorder the observations in order to make the data a little easier to work with.  You can see here some examples:\n",
    "\n"
   ]
  },
  {
   "cell_type": "markdown",
   "metadata": {},
   "source": [
    "### Dealing with missing values\n",
    "\n",
    "But before starting, a common task in data analysis is dealing with missing values. In R, missing values are often represented by `NA` or some other value that represents missing values (i.e. `99`).\n",
    "\n",
    "The first step is to identify this values. To this end, you can use `is.na()` which returns a logical vector with `TRUE` in the element locations that contain missing values represented by `NA`. `is.na()` will work on vectors, lists, matrices, and data frames."
   ]
  },
  {
   "cell_type": "code",
   "execution_count": null,
   "metadata": {},
   "outputs": [],
   "source": [
    "data %>% \n",
    "  is.na() %>% \n",
    "  colSums()\n",
    "\n",
    "# colSums(is.na(data)) "
   ]
  },
  {
   "cell_type": "code",
   "execution_count": null,
   "metadata": {},
   "outputs": [],
   "source": [
    "#load(file(source_data(\"http://dl.dropboxusercontent.com/u/25710348/Blogposts/data/IL2010.Rda\")))"
   ]
  },
  {
   "cell_type": "markdown",
   "metadata": {},
   "source": [
    "Another option to see the number of NA's is applying the `summary` function. This function produces numerical summaries for each of the variables of the variables included in the data frame."
   ]
  },
  {
   "cell_type": "code",
   "execution_count": null,
   "metadata": {},
   "outputs": [],
   "source": [
    "summary(data)"
   ]
  },
  {
   "cell_type": "markdown",
   "metadata": {},
   "source": [
    "Now, we can delete these observations or we can recode them.\n",
    "\n",
    "In order to recode missing values or recode specific indicators that represent missing values, we can use normal subsetting and assignment operations. For example, we can recode missing values in vector `x` with the mean values in `x` by first subsetting the vector to identify `NA's` and then assign these elements a value. "
   ]
  },
  {
   "cell_type": "code",
   "execution_count": null,
   "metadata": {},
   "outputs": [],
   "source": [
    "(x <- c(1:4, NA, 6:7, NA))"
   ]
  },
  {
   "cell_type": "code",
   "execution_count": null,
   "metadata": {},
   "outputs": [],
   "source": [
    "x[is.na(x)] <- mean(x, na.rm = TRUE)"
   ]
  },
  {
   "cell_type": "code",
   "execution_count": null,
   "metadata": {},
   "outputs": [],
   "source": [
    "round(x, 2)"
   ]
  },
  {
   "cell_type": "markdown",
   "metadata": {},
   "source": [
    "In our analysis, we are going to exclude these cases directly. To this end, we could use de `na.omit` function."
   ]
  },
  {
   "cell_type": "code",
   "execution_count": null,
   "metadata": {},
   "outputs": [],
   "source": [
    "# data <- data[complete.cases(data), ] # another option\n",
    "data <- na.omit(data)"
   ]
  },
  {
   "cell_type": "markdown",
   "metadata": {},
   "source": [
    "<a id=\"variation\"></a>"
   ]
  },
  {
   "cell_type": "markdown",
   "metadata": {},
   "source": [
    "### Exploring the variation of my variables\n",
    "\n",
    "At this stage, we'll see some example to analyze one variable paying attention of their type (continuous or categorical). In the case of a continuous variable, it is commmon to use the summary function and in the case of a catgorical variable we can obtain frequencies for each of the levels of the variable."
   ]
  },
  {
   "cell_type": "code",
   "execution_count": null,
   "metadata": {},
   "outputs": [],
   "source": [
    "summary(data$price) # continuous"
   ]
  },
  {
   "cell_type": "code",
   "execution_count": null,
   "metadata": {},
   "outputs": [],
   "source": [
    "summary(data$room_type) # categorical"
   ]
  },
  {
   "cell_type": "code",
   "execution_count": null,
   "metadata": {},
   "outputs": [],
   "source": [
    "table(data$room_type) # absolutes frequencies"
   ]
  },
  {
   "cell_type": "code",
   "execution_count": null,
   "metadata": {},
   "outputs": [],
   "source": [
    "prop.table(table(data$room_type)) # relative frequencies"
   ]
  },
  {
   "cell_type": "markdown",
   "metadata": {},
   "source": [
    "<a id=\"covariation\"></a>"
   ]
  },
  {
   "cell_type": "markdown",
   "metadata": {},
   "source": [
    "### Exploring the covariation between my variables \n",
    "\n",
    "Now, we'll try to understand which is the relation between some varibles and obtain results for the combination of them. We'll use some very useful fucntions from the `dplyr` packages. The first one is `filter()` that allows you to subset observations based on their values. \n",
    "\n",
    "Note: `dplyr` executes the filtering operation and returns a new data frame. `dplyr` functions never modify their inputs, so if you want to save the result, you’ll need to use the assignment operator, `<-`."
   ]
  },
  {
   "cell_type": "code",
   "execution_count": null,
   "metadata": {},
   "outputs": [],
   "source": [
    "data %>%\n",
    "  filter(neighbourhood_group == \"Ciutat Vella\",\n",
    "         room_type == \"Private room\")\n",
    "\n",
    "# ciutat_vella_priv_room <- data %>%\n",
    "#  filter(neighbourhood_group == \"Ciutat Vella\",\n",
    "#         room_type == \"Private room\")"
   ]
  },
  {
   "cell_type": "code",
   "execution_count": null,
   "metadata": {},
   "outputs": [],
   "source": [
    "# data %>%\n",
    "#  filter(neighbourhood_group == \"Ciutat Vella\"| neighbourhood_group == \"Gràcia\" ) # logic operators\n",
    "\n",
    "# data %>%\n",
    "#  filter(neighbourhood_group %in% c(\"Ciutat Vella\",\"Gràcia\" )) # logic operators\n"
   ]
  },
  {
   "cell_type": "markdown",
   "metadata": {},
   "source": [
    "The function `arrange()` works similarly to `filter()` except that instead of selecting rows, it changes their order. It takes a data frame and a set of column names to order by. If you provide more than one column name, each additional column will be used to break ties in the values of preceding columns:\n"
   ]
  },
  {
   "cell_type": "code",
   "execution_count": null,
   "metadata": {},
   "outputs": [],
   "source": [
    "data %>% \n",
    "  arrange(price, desc(number_of_reviews))"
   ]
  },
  {
   "cell_type": "markdown",
   "metadata": {},
   "source": [
    "Besides selecting sets of existing columns, sometimes it's very useful to add new columns that are obtained from existing columns. That’s the job of `mutate()`."
   ]
  },
  {
   "cell_type": "code",
   "execution_count": null,
   "metadata": {},
   "outputs": [],
   "source": [
    "data <- data %>% \n",
    "  mutate(ri_price = price > quantile(price, probs = 0.25) &\n",
    "           price < quantile(price, probs = 0.75)) "
   ]
  },
  {
   "cell_type": "code",
   "execution_count": null,
   "metadata": {},
   "outputs": [],
   "source": [
    "head(data)"
   ]
  },
  {
   "cell_type": "markdown",
   "metadata": {},
   "source": [
    "`select()` allows you to rapidly zoom in on a useful subset using operations based on the names of the variables.\n"
   ]
  },
  {
   "cell_type": "code",
   "execution_count": null,
   "metadata": {},
   "outputs": [],
   "source": [
    "data %>% \n",
    "    select(name, price)  %>% \n",
    "    head()\n",
    "\n",
    "#data %>% select(price, ri_price)"
   ]
  },
  {
   "cell_type": "markdown",
   "metadata": {},
   "source": [
    "In order to answer some questions, you'll need to use more than one function at once. For example, how many distinct `neighbourhood` are there in `Ciutat Vella`? \n"
   ]
  },
  {
   "cell_type": "code",
   "execution_count": null,
   "metadata": {},
   "outputs": [],
   "source": [
    "data %>%\n",
    "    filter(neighbourhood_group == \"Ciutat Vella\") %>% \n",
    "    select(neighbourhood) %>% \n",
    "    unique()"
   ]
  },
  {
   "cell_type": "code",
   "execution_count": null,
   "metadata": {},
   "outputs": [],
   "source": [
    "# pay attention!\n",
    " data %>%\n",
    "#    filter(neighbourhood_group == \"Ciutat Vella\") %>% \n",
    "    select(neighbourhood) %>% \n",
    "    unique() "
   ]
  },
  {
   "cell_type": "markdown",
   "metadata": {},
   "source": [
    "\n",
    "Finally,  together `group_by()` and `summarise()` provide one of the tools that you’ll use most commonly when working with `dplyr`: **grouped summaries**. "
   ]
  },
  {
   "cell_type": "code",
   "execution_count": null,
   "metadata": {},
   "outputs": [],
   "source": [
    "data %>% \n",
    "  group_by(neighbourhood_group) %>% \n",
    "  summarise(mean = mean(price))\n"
   ]
  },
  {
   "cell_type": "code",
   "execution_count": null,
   "metadata": {},
   "outputs": [],
   "source": [
    "# adding the number of listenings, min and max\n",
    "data %>% \n",
    "  group_by(room_type) %>% \n",
    "  summarise(n = n(), mean = mean(price), \n",
    "            min = min(price), max = max(price))"
   ]
  },
  {
   "cell_type": "code",
   "execution_count": null,
   "metadata": {},
   "outputs": [],
   "source": [
    "# the same but nested grouping (by neighbourhood_group and  type of room)\n",
    "\n",
    "data %>% \n",
    "  group_by(neighbourhood_group, room_type) %>% \n",
    "  summarise(mean = mean(price), n = n()) \n"
   ]
  },
  {
   "cell_type": "code",
   "execution_count": null,
   "metadata": {},
   "outputs": [],
   "source": [
    "# now we add the relative frequencies\n",
    "\n",
    "data %>% \n",
    "  group_by(neighbourhood_group, room_type) %>% \n",
    "  summarise(mean = mean(price), n = n()) %>% \n",
    "  mutate(prop = prop.table(n))"
   ]
  },
  {
   "cell_type": "markdown",
   "metadata": {},
   "source": [
    "<a id=\"plots\"></a>"
   ]
  },
  {
   "cell_type": "markdown",
   "metadata": {},
   "source": [
    "### Data visualization\n",
    "\n",
    "Finally we will see how to visualise your data using `ggplot2`. R has several systems for making graphs, but `ggplot2` is one of the most elegant and most versatile package.\n",
    "\n",
    "\n",
    "#### Univariate analysis\n",
    "\n",
    "The way that you visualize the distribution of a variable depend on the type of variable you have: categorical or continuous. A variable is **categorical** if it can only take one of a small set of values. In R, categorical variables are usually saved as factors or character vectors. To examine the distribution of a categorical variable, use a bar chart:\n",
    "\n",
    "\n"
   ]
  },
  {
   "cell_type": "code",
   "execution_count": null,
   "metadata": {},
   "outputs": [],
   "source": [
    "options(repr.plot.width = 8, repr.plot.height = 4)"
   ]
  },
  {
   "cell_type": "code",
   "execution_count": null,
   "metadata": {},
   "outputs": [],
   "source": [
    "qplot(neighbourhood_group, data = data)"
   ]
  },
  {
   "cell_type": "markdown",
   "metadata": {},
   "source": [
    "\n",
    "A variable is **continuous** if it can take any of an infinite set of ordered values. Numbers and date-times are two examples of continuous variables. In order to see the distribution of a continuous variable, you can use a histogram or a density plot:\n",
    "  "
   ]
  },
  {
   "cell_type": "code",
   "execution_count": null,
   "metadata": {},
   "outputs": [],
   "source": [
    "qplot(x = price, data = data) # it seems that there are outliers"
   ]
  },
  {
   "cell_type": "code",
   "execution_count": null,
   "metadata": {},
   "outputs": [],
   "source": [
    "data_filtered <- data %>% \n",
    "  filter(price < 200)"
   ]
  },
  {
   "cell_type": "code",
   "execution_count": null,
   "metadata": {},
   "outputs": [],
   "source": [
    "qplot(price, data = data_filtered, geom = \"histogram\")"
   ]
  },
  {
   "cell_type": "code",
   "execution_count": null,
   "metadata": {},
   "outputs": [],
   "source": [
    "qplot(y = price, x = \"\", data = data_filtered, geom = \"boxplot\")"
   ]
  },
  {
   "cell_type": "markdown",
   "metadata": {},
   "source": [
    "#### Multivariate analysis\n",
    "\n",
    "From now onwards, we are going to describe the behaviour between variables (\"covariation\").  It  is the tendency for the values of two or more variables to vary together in a related way. To this end, the best option is to visualise the relationship between two or more variables. How you do that depend on again the type of variables involved.\n",
    "\n",
    "If you want to explore the distribution of a **continuous** variable broken down by a **categorical** variable, you can use some of these plots:"
   ]
  },
  {
   "cell_type": "code",
   "execution_count": null,
   "metadata": {},
   "outputs": [],
   "source": [
    "library(ggridges)\n",
    "data_filtered %>% \n",
    "    select(price, room_type) %>%\n",
    "    ggplot(aes(x = price, y = room_type, fill = room_type)) + \n",
    "    geom_density_ridges(scale = 3, alpha = 0.7)"
   ]
  },
  {
   "cell_type": "code",
   "execution_count": null,
   "metadata": {},
   "outputs": [],
   "source": [
    "data_filtered  %>% \n",
    "    filter(neighbourhood_group == \"Gràcia\")  %>% \n",
    "    qplot(y = price, x = neighbourhood, data = ., geom = \"boxplot\", fill = neighbourhood)\n",
    "    "
   ]
  },
  {
   "cell_type": "code",
   "execution_count": null,
   "metadata": {},
   "outputs": [],
   "source": [
    "qplot(y = price, x = neighbourhood_group, data = data_filtered, geom = \"boxplot\", fill = room_type)"
   ]
  },
  {
   "cell_type": "markdown",
   "metadata": {},
   "source": [
    "\n",
    "\n",
    "\n",
    "To visualise the relation between **categorical variables**, you’ll need to count the number of observations for each combination. One way to do that is to rely on the built-in `geom_count()`"
   ]
  },
  {
   "cell_type": "code",
   "execution_count": null,
   "metadata": {},
   "outputs": [],
   "source": [
    "ggplot(data = data) +\n",
    "  geom_count(mapping = aes(x = neighbourhood_group, y = neighbourhood)) #"
   ]
  },
  {
   "cell_type": "code",
   "execution_count": null,
   "metadata": {},
   "outputs": [],
   "source": [
    "data %>% \n",
    "  count(neighbourhood_group, room_type) %>%  \n",
    "  ggplot(mapping = aes(x = neighbourhood_group, y = room_type)) +\n",
    "    geom_tile(mapping = aes(fill = n)) #heat map"
   ]
  },
  {
   "cell_type": "markdown",
   "metadata": {},
   "source": [
    "Note: if the categorical variables are unordered, you might want to use the seriation package to simultaneously reorder the rows and columns in order to more clearly reveal interesting patterns."
   ]
  },
  {
   "cell_type": "markdown",
   "metadata": {},
   "source": [
    "One  way to visualise the covariation between two continuous variables is to draw a scatterplot with `geom_point()`. Maybe you can see a pattern in the points. "
   ]
  },
  {
   "cell_type": "code",
   "execution_count": null,
   "metadata": {},
   "outputs": [],
   "source": [
    "qplot(x = price, y = number_of_reviews, data = data_filtered, geom = \"point\")"
   ]
  },
  {
   "cell_type": "code",
   "execution_count": null,
   "metadata": {},
   "outputs": [],
   "source": [
    "qplot(x = price, y = number_of_reviews, data = data_filtered, geom = c(\"point\", \"smooth\"))"
   ]
  },
  {
   "cell_type": "code",
   "execution_count": null,
   "metadata": {},
   "outputs": [],
   "source": [
    "qplot(x = price, y = number_of_reviews, color = room_type, data = data_filtered, geom = c(\"point\"))"
   ]
  },
  {
   "cell_type": "code",
   "execution_count": null,
   "metadata": {},
   "outputs": [],
   "source": [
    "library(leaflet)\n",
    "library(htmlwidgets)"
   ]
  },
  {
   "cell_type": "code",
   "execution_count": null,
   "metadata": {},
   "outputs": [],
   "source": [
    "extract <- data %>% \n",
    "  select(latitude, longitude, host_name, name, neighbourhood_group)  %>%\n",
    "    sample_n(50)\n",
    "  "
   ]
  },
  {
   "cell_type": "code",
   "execution_count": null,
   "metadata": {},
   "outputs": [],
   "source": [
    "aux <- leaflet(data = extract) %>% addTiles() %>%\n",
    " addMarkers(~longitude, ~latitude, popup = ~as.character(host_name), label = ~as.character(name))"
   ]
  },
  {
   "cell_type": "code",
   "execution_count": null,
   "metadata": {},
   "outputs": [],
   "source": [
    "htmlwidgets::saveWidget(aux, \"widget.html\")"
   ]
  },
  {
   "cell_type": "markdown",
   "metadata": {},
   "source": [
    "<br/><br/><br/><br/><br/><br/><div style=\"text-align: right\">Material mainly based on the book **[R for Data Science](http://r4ds.had.co.nz/index.html)** (Grolemund and Wickham, 2017).</div>"
   ]
  }
 ],
 "metadata": {
  "kernelspec": {
   "display_name": "R",
   "language": "R",
   "name": "ir"
  },
  "language_info": {
   "codemirror_mode": "r",
   "file_extension": ".r",
   "mimetype": "text/x-r-source",
   "name": "R",
   "pygments_lexer": "r",
   "version": "3.4.4"
  }
 },
 "nbformat": 4,
 "nbformat_minor": 2
}
